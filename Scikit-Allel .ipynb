{
 "cells": [
  {
   "cell_type": "code",
   "execution_count": null,
   "metadata": {},
   "outputs": [],
   "source": [
    "!pip install scikit-allel[full]"
   ]
  },
  {
   "cell_type": "code",
   "execution_count": null,
   "metadata": {},
   "outputs": [],
   "source": [
    "#import necessary libraries \n",
    "import numpy as np \n",
    "import pandas as pd\n",
    "import matplotlib as mpl\n",
    "import matplotlib.pyplot as plt\n",
    "%matplotlib inline\n",
    "import seaborn as sns\n",
    "import h5py\n",
    "import scipy\n",
    "import vcf\n",
    "import allel\n",
    "import sys\n",
    "np.set_printoptions(threshold=sys.maxsize)"
   ]
  },
  {
   "cell_type": "markdown",
   "metadata": {},
   "source": [
    "__Using Scikit-Allel to Examine Variant Data__"
   ]
  },
  {
   "cell_type": "code",
   "execution_count": null,
   "metadata": {},
   "outputs": [],
   "source": [
    "#read in our VCF file with our tabix item\n",
    "callset = allel.read_vcf('ALL.chr21.shapeit2_integrated_snvindels_v2a_27022019.GRCh38.phased.vcf',tabix = '/Users/AlexGaujean/Downloads/Genomics_Project/ALL.chr21.shapeit2_integrated_snvindels_v2a_27022019.GRCh38.phased.vcf.gz.tbi')"
   ]
  },
  {
   "cell_type": "code",
   "execution_count": null,
   "metadata": {},
   "outputs": [],
   "source": [
    "#create function that reads vcf file using our imported Scikit-Allel info and explore our data \n",
    "def read_vcf(vcf_file,tbi_file):\n",
    "    callset = allel.read_vcf(vcf_file,tabix = tbi_file)\n",
    "    return callset\n",
    "\n",
    "#create a variable that stores the sample depth   \n",
    "def samples(callset):\n",
    "    samples_array = callset['samples']\n",
    "    print('Sample Amount:', samples_array.shape)\n",
    "    \n",
    "#create a variable that stores the genotype of each call\n",
    "def genotype(callset):\n",
    "    Genotype_calls = callset['calldata/GT'] \n",
    "    print('Genotype_calls:', Genotype_calls.shape) "
   ]
  },
  {
   "cell_type": "code",
   "execution_count": null,
   "metadata": {},
   "outputs": [],
   "source": [
    "#setup variable for our chromosome 21 depth\n",
    "vcf_file = 'ALL.chr21.shapeit2_integrated_snvindels_v2a_27022019.GRCh38.phased.vcf'\n",
    "read_vcf(vcf_file)"
   ]
  }
 ],
 "metadata": {
  "kernelspec": {
   "display_name": "Python 3",
   "language": "python",
   "name": "python3"
  },
  "language_info": {
   "codemirror_mode": {
    "name": "ipython",
    "version": 3
   },
   "file_extension": ".py",
   "mimetype": "text/x-python",
   "name": "python",
   "nbconvert_exporter": "python",
   "pygments_lexer": "ipython3",
   "version": "3.7.1"
  }
 },
 "nbformat": 4,
 "nbformat_minor": 2
}
