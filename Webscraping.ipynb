{
 "cells": [
  {
   "cell_type": "markdown",
   "metadata": {},
   "source": [
    "__Webscrape Human Genome Dataset__\n",
    "\n",
    "- in order to map the population codes to each individual sample "
   ]
  },
  {
   "cell_type": "code",
   "execution_count": 23,
   "metadata": {
    "scrolled": true
   },
   "outputs": [
    {
     "name": "stdout",
     "output_type": "stream",
     "text": [
      "Requirement already satisfied: selenium in /Users/AlexGaujean/anaconda3/lib/python3.7/site-packages (3.141.0)\n",
      "Requirement already satisfied: urllib3 in /Users/AlexGaujean/anaconda3/lib/python3.7/site-packages (from selenium) (1.24.1)\n"
     ]
    }
   ],
   "source": [
    "!pip install selenium"
   ]
  },
  {
   "cell_type": "code",
   "execution_count": 24,
   "metadata": {},
   "outputs": [],
   "source": [
    "#install necessary modules\n",
    "import time\n",
    "import selenium\n",
    "from selenium import webdriver\n",
    "from selenium.webdriver.common.keys import Keys"
   ]
  },
  {
   "cell_type": "code",
   "execution_count": 35,
   "metadata": {},
   "outputs": [],
   "source": [
    "#setup chrome driver to scrape the tables for population codes\n",
    "browser = webdriver.Chrome('/Users/AlexGaujean/Downloads/chromedriver')\n",
    "browser.get('https://www.coriell.org/0/Sections/Search/Panel_Detail.aspx?Ref=MGP00001')\n",
    "time.sleep(5)\n",
    "\n",
    "## code for webscraping with selenium ##\n",
    "table = browser.find_element_by_xpath('//*[@id=\"grdRef\"]')\n",
    "rows = table.find_elements_by_tag_name('tr') # get all of the rows in the table\n",
    "sample = []\n",
    "for row in rows[1:]:\n",
    "    samples = {}\n",
    "    cols = row.find_elements_by_tag_name('td')\n",
    "    samples['Catalog_ID'] = cols[0].text\n",
    "    samples['Sex'] = cols[1].text\n",
    "    sample.append(samples)"
   ]
  },
  {
   "cell_type": "code",
   "execution_count": 38,
   "metadata": {},
   "outputs": [],
   "source": [
    "Finland_Sample = sample"
   ]
  },
  {
   "cell_type": "code",
   "execution_count": null,
   "metadata": {},
   "outputs": [],
   "source": []
  }
 ],
 "metadata": {
  "kernelspec": {
   "display_name": "Python 3",
   "language": "python",
   "name": "python3"
  },
  "language_info": {
   "codemirror_mode": {
    "name": "ipython",
    "version": 3
   },
   "file_extension": ".py",
   "mimetype": "text/x-python",
   "name": "python",
   "nbconvert_exporter": "python",
   "pygments_lexer": "ipython3",
   "version": "3.7.1"
  }
 },
 "nbformat": 4,
 "nbformat_minor": 2
}
